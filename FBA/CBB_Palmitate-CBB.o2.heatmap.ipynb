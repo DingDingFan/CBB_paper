{
 "cells": [
  {
   "cell_type": "code",
   "execution_count": 2,
   "metadata": {
    "tags": []
   },
   "outputs": [],
   "source": [
    "import pandas as pd\n",
    "import cobra\n",
    "from cobra.flux_analysis import pfba\n",
    "import json\n",
    "import matplotlib.pyplot as plt\n",
    "import openpyxl\n",
    "from cobra import Model, Reaction, Metabolite\n",
    "import numpy as np\n",
    "from cobra.flux_analysis.variability import flux_variability_analysis\n",
    "from cobra.sampling import sample\n",
    "from statsmodels.stats.multitest import multipletests\n",
    "from scipy import stats\n",
    "from cameo import models\n",
    "import os\n",
    "#import plotly.express as px\n"
   ]
  },
  {
   "cell_type": "code",
   "execution_count": 3,
   "metadata": {},
   "outputs": [
    {
     "name": "stdout",
     "output_type": "stream",
     "text": [
      "/Raid/raid6/database/wuliu.notebook/wuliu/cobra\n"
     ]
    },
    {
     "data": {
      "text/plain": [
       "0"
      ]
     },
     "execution_count": 3,
     "metadata": {},
     "output_type": "execute_result"
    }
   ],
   "source": [
    "os.system(\"pwd\")"
   ]
  },
  {
   "cell_type": "code",
   "execution_count": 5,
   "metadata": {},
   "outputs": [],
   "source": [
    "cobra_config = cobra.Configuration()\n",
    "cobra_config.solver = \"glpk\"\n",
    "m = cobra.io.read_sbml_model('iCN1361/12H_biomass.xml')"
   ]
  },
  {
   "cell_type": "code",
   "execution_count": 6,
   "metadata": {},
   "outputs": [
    {
     "ename": "TypeError",
     "evalue": "'Model' object is not callable",
     "output_type": "error",
     "traceback": [
      "\u001b[0;31m---------------------------------------------------------------------------\u001b[0m",
      "\u001b[0;31mTypeError\u001b[0m                                 Traceback (most recent call last)",
      "Input \u001b[0;32mIn [7]\u001b[0m, in \u001b[0;36m<cell line: 1>\u001b[0;34m()\u001b[0m\n\u001b[0;32m----> 1\u001b[0m \u001b[43mm\u001b[49m\u001b[38;5;241;43m.\u001b[39;49m\u001b[43msolver\u001b[49m\u001b[43m(\u001b[49m\u001b[43m)\u001b[49m\n",
      "\u001b[0;31mTypeError\u001b[0m: 'Model' object is not callable"
     ]
    }
   ],
   "source": [
    "m.solver"
   ]
  },
  {
   "cell_type": "code",
   "execution_count": 8,
   "metadata": {},
   "outputs": [
    {
     "name": "stderr",
     "output_type": "stream",
     "text": [
      "/home/wuliu/raid6/conda/envs/jupyterLab/lib/python3.9/site-packages/cobra/core/metabolite.py:103: UserWarning: 41.22 is not an integer (in formula C41.22H81.86O21.79N11.71)\n",
      "  warn(\n",
      "/home/wuliu/raid6/conda/envs/jupyterLab/lib/python3.9/site-packages/cobra/core/metabolite.py:103: UserWarning: 81.86 is not an integer (in formula C41.22H81.86O21.79N11.71)\n",
      "  warn(\n",
      "/home/wuliu/raid6/conda/envs/jupyterLab/lib/python3.9/site-packages/cobra/core/metabolite.py:103: UserWarning: 21.79 is not an integer (in formula C41.22H81.86O21.79N11.71)\n",
      "  warn(\n",
      "/home/wuliu/raid6/conda/envs/jupyterLab/lib/python3.9/site-packages/cobra/core/metabolite.py:103: UserWarning: 11.71 is not an integer (in formula C41.22H81.86O21.79N11.71)\n",
      "  warn(\n"
     ]
    },
    {
     "data": {
      "text/html": [
       "<h3>Objective</h3><p>1.0 R_Biomass = 0.25951024164637065</p><h4>Uptake</h4><table border=\"1\" class=\"dataframe\">\n",
       "  <thead>\n",
       "    <tr style=\"text-align: right;\">\n",
       "      <th>Metabolite</th>\n",
       "      <th>Reaction</th>\n",
       "      <th>Flux</th>\n",
       "      <th>C-Number</th>\n",
       "      <th>C-Flux</th>\n",
       "    </tr>\n",
       "  </thead>\n",
       "  <tbody>\n",
       "    <tr>\n",
       "      <td>M_AMMONIUM</td>\n",
       "      <td>EX_AMMONIUM_e</td>\n",
       "      <td>2.704</td>\n",
       "      <td>0</td>\n",
       "      <td>0.00%</td>\n",
       "    </tr>\n",
       "    <tr>\n",
       "      <td>M_BETA_D_FRUCTOSE_e</td>\n",
       "      <td>EX_BETA_D_FRUCTOSE_e</td>\n",
       "      <td>2.6</td>\n",
       "      <td>6</td>\n",
       "      <td>100.00%</td>\n",
       "    </tr>\n",
       "    <tr>\n",
       "      <td>M_FE2</td>\n",
       "      <td>EX_FE2_e</td>\n",
       "      <td>0.001267</td>\n",
       "      <td>0</td>\n",
       "      <td>0.00%</td>\n",
       "    </tr>\n",
       "    <tr>\n",
       "      <td>M_OXYGEN_MOLECULE</td>\n",
       "      <td>EX_OXYGEN_MOLECULE_e</td>\n",
       "      <td>4.589</td>\n",
       "      <td>0</td>\n",
       "      <td>0.00%</td>\n",
       "    </tr>\n",
       "    <tr>\n",
       "      <td>M_Pi</td>\n",
       "      <td>EX_Pi_e</td>\n",
       "      <td>0.2253</td>\n",
       "      <td>0</td>\n",
       "      <td>0.00%</td>\n",
       "    </tr>\n",
       "    <tr>\n",
       "      <td>M_SULFATE</td>\n",
       "      <td>EX_SULFATE_e</td>\n",
       "      <td>0.04197</td>\n",
       "      <td>0</td>\n",
       "      <td>0.00%</td>\n",
       "    </tr>\n",
       "  </tbody>\n",
       "</table><h4>Secretion</h4><table border=\"1\" class=\"dataframe\">\n",
       "  <thead>\n",
       "    <tr style=\"text-align: right;\">\n",
       "      <th>Metabolite</th>\n",
       "      <th>Reaction</th>\n",
       "      <th>Flux</th>\n",
       "      <th>C-Number</th>\n",
       "      <th>C-Flux</th>\n",
       "    </tr>\n",
       "  </thead>\n",
       "  <tbody>\n",
       "    <tr>\n",
       "      <td>M_BIOMASS</td>\n",
       "      <td>EX_BIOMASS_e</td>\n",
       "      <td>-0.2595</td>\n",
       "      <td>41.22</td>\n",
       "      <td>68.48%</td>\n",
       "    </tr>\n",
       "    <tr>\n",
       "      <td>M_CARBON_DIOXIDE</td>\n",
       "      <td>EX_CARBON_DIOXIDE_e</td>\n",
       "      <td>-4.905</td>\n",
       "      <td>1.00</td>\n",
       "      <td>31.40%</td>\n",
       "    </tr>\n",
       "    <tr>\n",
       "      <td>M_CH33ADO</td>\n",
       "      <td>EX_CH33ADO_e</td>\n",
       "      <td>-0.001844</td>\n",
       "      <td>10.00</td>\n",
       "      <td>0.12%</td>\n",
       "    </tr>\n",
       "    <tr>\n",
       "      <td>M_PROTON</td>\n",
       "      <td>EX_PROTON_e</td>\n",
       "      <td>-2.384</td>\n",
       "      <td>0.00</td>\n",
       "      <td>0.00%</td>\n",
       "    </tr>\n",
       "    <tr>\n",
       "      <td>M_WATER</td>\n",
       "      <td>EX_WATER_e</td>\n",
       "      <td>-11.83</td>\n",
       "      <td>0.00</td>\n",
       "      <td>0.00%</td>\n",
       "    </tr>\n",
       "  </tbody>\n",
       "</table>"
      ],
      "text/plain": [
       "<cobra.summary.model_summary.ModelSummary at 0x7f5342182760>"
      ]
     },
     "execution_count": 8,
     "metadata": {},
     "output_type": "execute_result"
    }
   ],
   "source": [
    "m.summary()"
   ]
  },
  {
   "cell_type": "code",
   "execution_count": 55,
   "metadata": {},
   "outputs": [],
   "source": [
    "#set fructose flux\n",
    "m.reactions.R_FRUPTS.bounds = (0, 0) # previous study found the ABC is the active reaction [ref]\n",
    "m.reactions.EX_BETA_D_FRUCTOSE_e.bounds = (0, 0)  \n",
    "#m.reactions.EX_PALMITATE_e.bounds = (-1, -1) #0.3885\n",
    "m.reactions.EX_OXYGEN_MOLECULE_e.bounds=(-1000,1000)\n",
    "m.reactions.EX_CARBON_DIOXIDE_e.bounds = (-1000,1000)\n",
    "#m.reactions.EX_OXYGEN_MOLECULE_e.bounds = (-7.5, -7.5)   \n",
    "#m.reactions.R_Biomass.bounds = (0.022847, 0.022847)\n",
    "#m.reactions.EX_PHA_12H_e.bounds = (2.1587, 2.1587)\n",
    "#m.reactions.EX_AMMONIUM_e.bounds = (-0.2004, -0.2004)\n",
    "#m.reactions.EX_OXYGEN_MOLECULE_e.bounds = (-5.1153, -5.1153)\n",
    "#m.reactions.EX_CARBON_DIOXIDE_e.bounds = (1.8198, 1.8198)\n",
    "#R_RIBULOSE_BISPHOSPHATE_CARBOXYLASE_RXN\n",
    "#M_D_RIBULOSE_15_P2\n",
    "#m.reactions.EX_CARBON_DIOXIDE_e.bounds = \n",
    "#m.reactions.R_RIBULOSE_BISPHOSPHATE_CARBOXYLASE_RXN.bounds = (-0.597, -0.597)\n",
    "m.objective = 'R_Biomass'\n",
    "m.reactions.EX_PALMITATE_e.bounds = (-1, 0)"
   ]
  },
  {
   "cell_type": "code",
   "execution_count": 56,
   "metadata": {},
   "outputs": [],
   "source": [
    "solution = m.optimize()"
   ]
  },
  {
   "cell_type": "code",
   "execution_count": null,
   "metadata": {},
   "outputs": [],
   "source": [
    "m.summary()"
   ]
  },
  {
   "cell_type": "markdown",
   "metadata": {},
   "source": [
    "#control CBB and O2,detect oil usage"
   ]
  },
  {
   "cell_type": "code",
   "execution_count": null,
   "metadata": {
    "tags": []
   },
   "outputs": [],
   "source": [
    "import warnings\n",
    "warnings.filterwarnings(\"ignore\")\n",
    "m.reactions.EX_CARBON_DIOXIDE_e.bounds = (-10, 10)\n",
    "\n",
    "df = pd.DataFrame([[0,0,0,0]],columns = (['CBB', 'Biomass', 'O2','Oil']))\n",
    "m.reactions.EX_PALMITATE_e.bounds = (-2, 0)\n",
    "\n",
    "for i in np.arange(0,2,0.1):\n",
    "    m.reactions.R_RIBULOSE_BISPHOSPHATE_CARBOXYLASE_RXN.bounds = (-i, -i)\n",
    "    for j in np.arange(3,15,0.1):\n",
    "        m.reactions.EX_OXYGEN_MOLECULE_e.bounds=(-j,-j)\n",
    "        for x in np.arange(0,2,0.1):\n",
    "            m.reactions.EX_PALMITATE_e.bounds = (-x, -x)\n",
    "            Oil=x\n",
    "            CBB=i\n",
    "            O2=j\n",
    "            solution = m.optimize()\n",
    "            Biomass=solution.fluxes[\"R_Biomass\"]\n",
    "            #Oil = solution.fluxes[\"EX_PALMITATE_e\"]\n",
    "        #O2=solution.fluxes[\"EX_OXYGEN_MOLECULE_e\"]\n",
    "            df1 = pd.DataFrame(  [[ CBB , Biomass , O2,Oil] ] , columns = (['CBB','Biomass', 'O2',\"Oil\"]) )\n",
    "            df  = pd.concat([df,df1]) \n",
    "            \n",
    "#file=\"biomass.O2.CBB\" + str(i) + '.' + str(j) +\".csv\"\n",
    "#file=\"biomass.O2.CBB.oil.1\" + str(i) + '.' + str(j) +\".csv\"\n",
    "file=\"CBB.O2.oil.csv\"\n",
    "df.to_csv(file)"
   ]
  },
  {
   "cell_type": "code",
   "execution_count": 5,
   "metadata": {},
   "outputs": [
    {
     "data": {
      "text/plain": [
       "<bound method Model.optimize of <Model CnecH16 at 0x7f08389f5d60>>"
      ]
     },
     "execution_count": 5,
     "metadata": {},
     "output_type": "execute_result"
    }
   ],
   "source": [
    "m.optimize"
   ]
  },
  {
   "cell_type": "code",
   "execution_count": 1,
   "metadata": {},
   "outputs": [],
   "source": [
    "a=1.334"
   ]
  },
  {
   "cell_type": "code",
   "execution_count": 2,
   "metadata": {},
   "outputs": [
    {
     "data": {
      "text/plain": [
       "1.334"
      ]
     },
     "execution_count": 2,
     "metadata": {},
     "output_type": "execute_result"
    }
   ],
   "source": [
    "a"
   ]
  },
  {
   "cell_type": "code",
   "execution_count": 6,
   "metadata": {},
   "outputs": [
    {
     "name": "stdout",
     "output_type": "stream",
     "text": [
      "terst1.334\n"
     ]
    }
   ],
   "source": [
    "print( \"terst\" + str(a))"
   ]
  },
  {
   "cell_type": "code",
   "execution_count": 6,
   "metadata": {},
   "outputs": [],
   "source": [
    "m.reactions.EX_OXYGEN_MOLECULE_e.bounds=(-7,-7)\n",
    "m.reactions.R_RIBULOSE_BISPHOSPHATE_CARBOXYLASE_RXN.bounds = (0, 0)\n",
    "m.reactions.EX_PALMITATE_e.bounds = (-100, 0)\n",
    "solution = m.optimize()\n"
   ]
  },
  {
   "cell_type": "code",
   "execution_count": 10,
   "metadata": {},
   "outputs": [
    {
     "data": {
      "text/html": [
       "\n",
       "        <table>\n",
       "            <tr>\n",
       "                <td><strong>Reaction identifier</strong></td><td>R_Biomass</td>\n",
       "            </tr><tr>\n",
       "                <td><strong>Name</strong></td><td>Biomass</td>\n",
       "            </tr><tr>\n",
       "                <td><strong>Memory address</strong></td>\n",
       "                <td>0x07f5341467a90</td>\n",
       "            </tr><tr>\n",
       "                <td><strong>Stoichiometry</strong></td>\n",
       "                <td>\n",
       "                    <p style='text-align:right'>0.2508 M_ARG + 0.20295 M_ASN + 30.2922 M_ATP + 0.0538687561 M_CARBS + 3.4592723045332e-05 M_CLPN_C12 + 0.0020921778 M_CLPN_C14 + 3.0099e-05 M_CLPN_C15 + 0.0012405406 M_CLPN_C16 + 0.0008561755...</p>\n",
       "                    <p style='text-align:right'>0.2508 L-arginine + 0.20295 L-asparagine + 30.2922 ATP + 0.0538687561 + 3.4592723045332e-05 + 0.0020921778 + 3.0099e-05 + 0.0012405406 + 0.0008561755 + 2.77001160042504e-05 + 3.2503e-05 +...</p>\n",
       "                </td>\n",
       "            </tr><tr>\n",
       "                <td><strong>GPR</strong></td><td></td>\n",
       "            </tr><tr>\n",
       "                <td><strong>Lower bound</strong></td><td>0.0</td>\n",
       "            </tr><tr>\n",
       "                <td><strong>Upper bound</strong></td><td>1000.0</td>\n",
       "            </tr>\n",
       "        </table>\n",
       "        "
      ],
      "text/plain": [
       "<Reaction R_Biomass at 0x7f5341467a90>"
      ]
     },
     "execution_count": 10,
     "metadata": {},
     "output_type": "execute_result"
    }
   ],
   "source": [
    "m.reactions.get_by_id(\"R_Biomass\")"
   ]
  },
  {
   "cell_type": "code",
   "execution_count": null,
   "metadata": {},
   "outputs": [],
   "source": [
    "solution.fluxes[\"R_Biomass\"]\n",
    "m.summary()"
   ]
  },
  {
   "cell_type": "code",
   "execution_count": 8,
   "metadata": {},
   "outputs": [
    {
     "data": {
      "text/plain": [
       "-0.9537804867330539"
      ]
     },
     "execution_count": 8,
     "metadata": {},
     "output_type": "execute_result"
    }
   ],
   "source": [
    "solution.fluxes[\"EX_PALMITATE_e\"]"
   ]
  },
  {
   "cell_type": "markdown",
   "metadata": {},
   "source": [
    "#control CBB,Oil,detect O2 usage ,no achohole product"
   ]
  },
  {
   "cell_type": "code",
   "execution_count": 10,
   "metadata": {},
   "outputs": [],
   "source": [
    "# control CBB, oil ,detect O2 and biomass ,as liuyedao did\n",
    "import warnings\n",
    "m.reactions.EX_CARBON_DIOXIDE_e.bounds = (-10,10)\n",
    "m.reactions.EX_ACET_e.bounds = (0,0)\n",
    "warnings.filterwarnings(\"ignore\")\n",
    "df = pd.DataFrame([[0,0,0,0]],columns = (['CBB', 'Biomass', 'O2','Oil']))\n",
    "#m.reactions.EX_PALMITATE_e.bounds = (-1, -1)\n",
    "\n",
    "for i in np.arange(0,2,0.01):\n",
    "    m.reactions.EX_PALMITATE_e.bounds = (-i, -i)\n",
    "    for j in np.arange(0,2,0.01):\n",
    "        m.reactions.R_RIBULOSE_BISPHOSPHATE_CARBOXYLASE_RXN.bounds = (-j, -j)\n",
    "        Oil=i\n",
    "        CBB=j\n",
    "        solution = m.optimize()\n",
    "        Biomass=solution.fluxes[\"R_Biomass\"]\n",
    "        #Oil = solution.fluxes[\"EX_PALMITATE_e\"]\n",
    "        O2=solution.fluxes[\"EX_OXYGEN_MOLECULE_e\"]\n",
    "        df1 = pd.DataFrame(  [[ CBB , Biomass , O2,Oil] ] , columns = (['CBB','Biomass', 'O2',\"Oil\"]) )\n",
    "        df  = pd.concat([df,df1]) \n",
    "#file=\"biomass.O2.CBB\" + str(i) + '.' + str(j) +\".csv\"\n",
    "file=\"aaa.control.oil.CBB.findO2.biomass.2.2.csv\"\n",
    "df.to_csv(file)"
   ]
  },
  {
   "cell_type": "code",
   "execution_count": null,
   "metadata": {},
   "outputs": [],
   "source": [
    "\n",
    "\n",
    "\n",
    "\n",
    "\n",
    "\n",
    "df2 = df[df > 0].dropna() \n",
    "from scipy.stats import zscore\n",
    "df3=df2.apply(zscore)\n"
   ]
  },
  {
   "cell_type": "code",
   "execution_count": null,
   "metadata": {},
   "outputs": [],
   "source": [
    "m.reactions.EX_PALMITATE_e.bounds = (-10, 0)\n",
    "m.reactions.EX_OXYGEN_MOLECULE_e.bounds=(-7,-7)\n",
    "m.reactions.R_RIBULOSE_BISPHOSPHATE_CARBOXYLASE_RXN.bounds = (-0, -0)\n",
    "solution1 = m.optimize()\n",
    "m.objective = 'R_Biomass'\n",
    "m.metabolites.M_OXYGEN_MOLECULE.summary()\n",
    "outfile=\"flux.cbb0.csv\"\n",
    "solution1.fluxes.to_csv(outfile)"
   ]
  },
  {
   "cell_type": "code",
   "execution_count": null,
   "metadata": {},
   "outputs": [],
   "source": [
    "solution1.fluxes[\"EX_PALMITATE_e\"]\n"
   ]
  },
  {
   "cell_type": "code",
   "execution_count": null,
   "metadata": {},
   "outputs": [],
   "source": [
    "m.reactions.EX_OXYGEN_MOLECULE_e.bounds=(-7,-7)\n",
    "m.reactions.EX_PALMITATE_e.bounds = (-10, 0)\n",
    "m.reactions.R_RIBULOSE_BISPHOSPHATE_CARBOXYLASE_RXN.bounds = (-0.6, -0.6)\n",
    "solution2 = m.optimize()\n",
    "m.objective = 'R_Biomass'\n",
    "m.metabolites.M_PALMITATE.summary()\n",
    "outfile=\"flux.cbb0.6.csv\"\n",
    "solution2.fluxes.to_csv(outfile)"
   ]
  },
  {
   "cell_type": "code",
   "execution_count": null,
   "metadata": {},
   "outputs": [],
   "source": [
    "solution2.fluxes[\"EX_PALMITATE_e\"]"
   ]
  },
  {
   "cell_type": "code",
   "execution_count": null,
   "metadata": {},
   "outputs": [],
   "source": [
    "#import plotly.express as px\n",
    "#df = px.data.gapminder().query(\"country=='Canada'\")\n",
    "#fig = px.line(df, x=\"CBB\", y=\"Biomass\", title='')\n",
    "#px.density_heatmap(df, x=\"O2\", y=\"CBB\", marginal_x=\"histogram\", marginal_y=\"histogram\",text_auto=True)\n",
    "import plotly.graph_objects as go"
   ]
  },
  {
   "cell_type": "code",
   "execution_count": 1,
   "metadata": {},
   "outputs": [
    {
     "ename": "NameError",
     "evalue": "name 'df2' is not defined",
     "output_type": "error",
     "traceback": [
      "\u001b[0;31m---------------------------------------------------------------------------\u001b[0m",
      "\u001b[0;31mNameError\u001b[0m                                 Traceback (most recent call last)",
      "Input \u001b[0;32mIn [1]\u001b[0m, in \u001b[0;36m<cell line: 3>\u001b[0;34m()\u001b[0m\n\u001b[1;32m      1\u001b[0m \u001b[38;5;28;01mimport\u001b[39;00m \u001b[38;5;21;01mplotly\u001b[39;00m\u001b[38;5;21;01m.\u001b[39;00m\u001b[38;5;21;01mexpress\u001b[39;00m \u001b[38;5;28;01mas\u001b[39;00m \u001b[38;5;21;01mpx\u001b[39;00m\n\u001b[1;32m      2\u001b[0m \u001b[38;5;66;03m#fig = px.line_3d(df2, x=\"O2\", y=\"CBB\", z=\"Biomass\",height =1000 ,width =1000 )\u001b[39;00m\n\u001b[0;32m----> 3\u001b[0m fig\u001b[38;5;241m=\u001b[39m px\u001b[38;5;241m.\u001b[39mscatter_3d(\u001b[43mdf2\u001b[49m, x\u001b[38;5;241m=\u001b[39m\u001b[38;5;124m\"\u001b[39m\u001b[38;5;124mCBB\u001b[39m\u001b[38;5;124m\"\u001b[39m, y\u001b[38;5;241m=\u001b[39m\u001b[38;5;124m\"\u001b[39m\u001b[38;5;124mBiomass\u001b[39m\u001b[38;5;124m\"\u001b[39m, z\u001b[38;5;241m=\u001b[39m\u001b[38;5;124m\"\u001b[39m\u001b[38;5;124mO2\u001b[39m\u001b[38;5;124m\"\u001b[39m,height \u001b[38;5;241m=\u001b[39m\u001b[38;5;241m1000\u001b[39m ,width \u001b[38;5;241m=\u001b[39m\u001b[38;5;241m1000\u001b[39m,color\u001b[38;5;241m=\u001b[39m\u001b[38;5;124m\"\u001b[39m\u001b[38;5;124mBiomass\u001b[39m\u001b[38;5;124m\"\u001b[39m,size\u001b[38;5;241m=\u001b[39m\u001b[38;5;124m\"\u001b[39m\u001b[38;5;124mO2\u001b[39m\u001b[38;5;124m\"\u001b[39m, opacity\u001b[38;5;241m=\u001b[39m\u001b[38;5;241m0.7\u001b[39m )\n\u001b[1;32m      4\u001b[0m \u001b[38;5;66;03m#fig.add_vline(0.6)\u001b[39;00m\n\u001b[1;32m      5\u001b[0m fig\u001b[38;5;241m.\u001b[39mshow()\n",
      "\u001b[0;31mNameError\u001b[0m: name 'df2' is not defined"
     ]
    }
   ],
   "source": [
    "import plotly.express as px\n",
    "#fig = px.line_3d(df2, x=\"O2\", y=\"CBB\", z=\"Biomass\",height =1000 ,width =1000 )\n",
    "fig= px.scatter_3d(df2, x=\"CBB\", y=\"Biomass\", z=\"O2\",height =1000 ,width =1000,color=\"Biomass\",size=\"O2\", opacity=0.7 )\n",
    "#fig.add_vline(0.6)\n",
    "fig.show()\n",
    "\n",
    "#px.scatter_3d()"
   ]
  },
  {
   "cell_type": "code",
   "execution_count": null,
   "metadata": {},
   "outputs": [],
   "source": [
    "fig.write_html(\"CBB.O2.biomass.html\")"
   ]
  },
  {
   "cell_type": "code",
   "execution_count": null,
   "metadata": {},
   "outputs": [],
   "source": []
  },
  {
   "cell_type": "code",
   "execution_count": null,
   "metadata": {},
   "outputs": [],
   "source": [
    "z_data = pd.read_csv('test.csv.txt')\n",
    "fig = go.Figure(data=[go.Surface(z=df)])\n",
    "fig.update_traces(contours_z=dict(show=True, usecolormap=True,\n",
    "                                  highlightcolor=\"limegreen\", project_z=True))\n",
    "fig.update_layout(title='O2 CBB Biomass', autosize=False,\n",
    "                  scene_camera_eye=dict(x=1.87, y=0.88, z=-0.64),\n",
    "                  width=900, height=900,\n",
    "                  margin=dict(l=65, r=50, b=65, t=90)\n",
    ")\n",
    "\n",
    "fig.show()"
   ]
  },
  {
   "cell_type": "code",
   "execution_count": null,
   "metadata": {},
   "outputs": [],
   "source": [
    "fig.show(height=10, )"
   ]
  },
  {
   "cell_type": "code",
   "execution_count": null,
   "metadata": {},
   "outputs": [],
   "source": [
    "#plt.plot(mass.keys(),mass.values(),marker='.',color=\"red\", linestyle=\"dashed\")\n",
    "#plt.axis([0, 6, 0, 20])\n",
    "#plt.show "
   ]
  },
  {
   "cell_type": "code",
   "execution_count": null,
   "metadata": {},
   "outputs": [],
   "source": [
    "m.reactions.EX_BETA_D_FRUCTOSE_e.bounds = (-16/6, -16/6) \n",
    "m.reactions.EX_PALMITATE_e.bounds = (0, 0)\n",
    "m.objective = 'R_Biomass'\n",
    "solution = m.optimize()"
   ]
  },
  {
   "cell_type": "code",
   "execution_count": null,
   "metadata": {},
   "outputs": [],
   "source": [
    "fmass={}\n",
    "for i in np.arange(-2,0,0.001):\n",
    "    m.reactions.R_RIBULOSE_BISPHOSPHATE_CARBOXYLASE_RXN.bounds = (i, i)\n",
    "    solution = m.optimize()\n",
    "    fmass[i]=solution.fluxes[\"R_Biomass\"]"
   ]
  },
  {
   "cell_type": "code",
   "execution_count": null,
   "metadata": {},
   "outputs": [],
   "source": [
    "data={\"CBB\":fmass.keys(),\"Biomass\":fmass.values()}\n",
    "df2 = pd.DataFrame(data)\n",
    "fig = px.line(df2, x=\"CBB\", y=\"Biomass\", title='')"
   ]
  },
  {
   "cell_type": "code",
   "execution_count": null,
   "metadata": {},
   "outputs": [],
   "source": [
    "fig.show()"
   ]
  },
  {
   "cell_type": "code",
   "execution_count": null,
   "metadata": {},
   "outputs": [],
   "source": [
    "cobra.io.save_json_model(m,\"CBB_Palmitate-CBB-50.model.json\")"
   ]
  },
  {
   "cell_type": "code",
   "execution_count": null,
   "metadata": {},
   "outputs": [],
   "source": [
    "outfile=\"flux.50.csv\"\n",
    "solution.fluxes.to_csv(outfile)"
   ]
  },
  {
   "cell_type": "code",
   "execution_count": null,
   "metadata": {},
   "outputs": [],
   "source": [
    "m.metabolites.M_OXYGEN_MOLECULE.summary()"
   ]
  },
  {
   "cell_type": "code",
   "execution_count": null,
   "metadata": {},
   "outputs": [],
   "source": [
    "#m.metabolites.M_2_KETOGLUTARATE.summary()\n",
    "#m.reactions.get_by_id(\"R_MALIC_NADP_RXN\")\n",
    "m.Biomass"
   ]
  },
  {
   "cell_type": "code",
   "execution_count": 9,
   "metadata": {},
   "outputs": [
    {
     "name": "stderr",
     "output_type": "stream",
     "text": [
      "/home/wuliu/raid6/conda/envs/jupyterLab/lib/python3.9/site-packages/cobra/core/dictlist.py:215: SyntaxWarning: \"is\" with a literal. Did you mean \"==\"?\n",
      "  if current_length is 0:\n",
      "/home/wuliu/raid6/conda/envs/jupyterLab/lib/python3.9/site-packages/cobra/core/dictlist.py:215: SyntaxWarning: \"is\" with a literal. Did you mean \"==\"?\n",
      "  if current_length is 0:\n",
      "/home/wuliu/raid6/conda/envs/jupyterLab/lib/python3.9/site-packages/cobra/core/dictlist.py:215: SyntaxWarning: \"is\" with a literal. Did you mean \"==\"?\n",
      "  if current_length is 0:\n",
      "/home/wuliu/raid6/conda/envs/jupyterLab/lib/python3.9/site-packages/cobra/core/dictlist.py:215: SyntaxWarning: \"is\" with a literal. Did you mean \"==\"?\n",
      "  if current_length is 0:\n"
     ]
    },
    {
     "ename": "AttributeError",
     "evalue": "DictList has no attribute or entry M_Biomass",
     "output_type": "error",
     "traceback": [
      "\u001b[0;31m---------------------------------------------------------------------------\u001b[0m",
      "\u001b[0;31mKeyError\u001b[0m                                  Traceback (most recent call last)",
      "File \u001b[0;32m~/raid6/conda/envs/jupyterLab/lib/python3.9/site-packages/cobra/core/dictlist.py:455\u001b[0m, in \u001b[0;36mDictList.__getattr__\u001b[0;34m(self, attr)\u001b[0m\n\u001b[1;32m    454\u001b[0m \u001b[38;5;28;01mtry\u001b[39;00m:\n\u001b[0;32m--> 455\u001b[0m     \u001b[38;5;28;01mreturn\u001b[39;00m \u001b[43mDictList\u001b[49m\u001b[38;5;241;43m.\u001b[39;49m\u001b[43mget_by_id\u001b[49m\u001b[43m(\u001b[49m\u001b[38;5;28;43mself\u001b[39;49m\u001b[43m,\u001b[49m\u001b[43m \u001b[49m\u001b[43mattr\u001b[49m\u001b[43m)\u001b[49m\n\u001b[1;32m    456\u001b[0m \u001b[38;5;28;01mexcept\u001b[39;00m \u001b[38;5;167;01mKeyError\u001b[39;00m:\n",
      "File \u001b[0;32m~/raid6/conda/envs/jupyterLab/lib/python3.9/site-packages/cobra/core/dictlist.py:58\u001b[0m, in \u001b[0;36mDictList.get_by_id\u001b[0;34m(self, id)\u001b[0m\n\u001b[1;32m     57\u001b[0m \u001b[38;5;124;03m\"\"\"return the element with a matching id\"\"\"\u001b[39;00m\n\u001b[0;32m---> 58\u001b[0m \u001b[38;5;28;01mreturn\u001b[39;00m \u001b[38;5;28mlist\u001b[39m\u001b[38;5;241m.\u001b[39m\u001b[38;5;21m__getitem__\u001b[39m(\u001b[38;5;28mself\u001b[39m, \u001b[38;5;28;43mself\u001b[39;49m\u001b[38;5;241;43m.\u001b[39;49m\u001b[43m_dict\u001b[49m\u001b[43m[\u001b[49m\u001b[38;5;28;43mid\u001b[39;49m\u001b[43m]\u001b[49m)\n",
      "\u001b[0;31mKeyError\u001b[0m: 'M_Biomass'",
      "\nDuring handling of the above exception, another exception occurred:\n",
      "\u001b[0;31mAttributeError\u001b[0m                            Traceback (most recent call last)",
      "Input \u001b[0;32mIn [9]\u001b[0m, in \u001b[0;36m<cell line: 1>\u001b[0;34m()\u001b[0m\n\u001b[0;32m----> 1\u001b[0m \u001b[43mm\u001b[49m\u001b[38;5;241;43m.\u001b[39;49m\u001b[43mmetabolites\u001b[49m\u001b[38;5;241;43m.\u001b[39;49m\u001b[43mM_Biomass\u001b[49m\u001b[38;5;241m.\u001b[39msummary()\n",
      "File \u001b[0;32m~/raid6/conda/envs/jupyterLab/lib/python3.9/site-packages/cobra/core/dictlist.py:457\u001b[0m, in \u001b[0;36mDictList.__getattr__\u001b[0;34m(self, attr)\u001b[0m\n\u001b[1;32m    455\u001b[0m     \u001b[38;5;28;01mreturn\u001b[39;00m DictList\u001b[38;5;241m.\u001b[39mget_by_id(\u001b[38;5;28mself\u001b[39m, attr)\n\u001b[1;32m    456\u001b[0m \u001b[38;5;28;01mexcept\u001b[39;00m \u001b[38;5;167;01mKeyError\u001b[39;00m:\n\u001b[0;32m--> 457\u001b[0m     \u001b[38;5;28;01mraise\u001b[39;00m \u001b[38;5;167;01mAttributeError\u001b[39;00m(\u001b[38;5;124m\"\u001b[39m\u001b[38;5;124mDictList has no attribute or entry \u001b[39m\u001b[38;5;132;01m%s\u001b[39;00m\u001b[38;5;124m\"\u001b[39m \u001b[38;5;241m%\u001b[39m attr)\n",
      "\u001b[0;31mAttributeError\u001b[0m: DictList has no attribute or entry M_Biomass"
     ]
    }
   ],
   "source": [
    "m.metabolites.M_Biomass.summary()"
   ]
  },
  {
   "cell_type": "code",
   "execution_count": null,
   "metadata": {},
   "outputs": [],
   "source": [
    "m.metabolites.M_FRUCTOSE_6P.summary()"
   ]
  },
  {
   "cell_type": "code",
   "execution_count": null,
   "metadata": {},
   "outputs": [],
   "source": [
    "m.metabolites.M_FRUCTOSE_16_DIPHOSPHATE.summary()"
   ]
  },
  {
   "cell_type": "code",
   "execution_count": null,
   "metadata": {},
   "outputs": [],
   "source": [
    "m.metabolites.M_2_KETO_3_DEOXY_6_P_GLUCONATE.summary()"
   ]
  },
  {
   "cell_type": "code",
   "execution_count": null,
   "metadata": {},
   "outputs": [],
   "source": [
    "m.metabolites.M_D_SEDOHEPTULOSE_7_P.summary()"
   ]
  },
  {
   "cell_type": "code",
   "execution_count": null,
   "metadata": {},
   "outputs": [],
   "source": [
    "m.metabolites.M_DIHYDROXY_ACETONE_PHOSPHATE.summary()"
   ]
  },
  {
   "cell_type": "code",
   "execution_count": null,
   "metadata": {},
   "outputs": [],
   "source": [
    "m.metabolites.M_RIBOSE_5P.summary()"
   ]
  },
  {
   "cell_type": "code",
   "execution_count": null,
   "metadata": {},
   "outputs": [],
   "source": [
    "m.metabolites.M_RIBULOSE_5P.summary()"
   ]
  },
  {
   "cell_type": "code",
   "execution_count": null,
   "metadata": {
    "tags": []
   },
   "outputs": [],
   "source": [
    "m.metabolites.M_D_RIBULOSE_15_P2.summary()"
   ]
  },
  {
   "cell_type": "code",
   "execution_count": null,
   "metadata": {
    "tags": []
   },
   "outputs": [],
   "source": [
    "m.metabolites.M_G3P.summary()"
   ]
  },
  {
   "cell_type": "code",
   "execution_count": null,
   "metadata": {
    "tags": []
   },
   "outputs": [],
   "source": [
    "m.metabolites.M_GAP.summary()"
   ]
  },
  {
   "cell_type": "code",
   "execution_count": null,
   "metadata": {
    "tags": []
   },
   "outputs": [],
   "source": [
    "m.metabolites.M_FRUCTOSE_16_DIPHOSPHATE.summary()"
   ]
  },
  {
   "cell_type": "code",
   "execution_count": null,
   "metadata": {
    "tags": []
   },
   "outputs": [],
   "source": [
    "m.metabolites.M_PHOSPHO_ENOL_PYRUVATE.summary()"
   ]
  },
  {
   "cell_type": "code",
   "execution_count": null,
   "metadata": {
    "tags": []
   },
   "outputs": [],
   "source": [
    "m.metabolites.M_FUM.summary()"
   ]
  },
  {
   "cell_type": "code",
   "execution_count": null,
   "metadata": {
    "tags": []
   },
   "outputs": [],
   "source": [
    "m.metabolites.M_CIT.summary()"
   ]
  },
  {
   "cell_type": "code",
   "execution_count": null,
   "metadata": {
    "tags": []
   },
   "outputs": [],
   "source": [
    "m.metabolites.M_THREO_DS_ISO_CITRATE.summary()"
   ]
  },
  {
   "cell_type": "code",
   "execution_count": null,
   "metadata": {
    "tags": []
   },
   "outputs": [],
   "source": [
    "m.metabolites.M_GLYOX.summary()"
   ]
  },
  {
   "cell_type": "code",
   "execution_count": null,
   "metadata": {},
   "outputs": [],
   "source": [
    "m.metabolites.M_GLYOX.summary()"
   ]
  },
  {
   "cell_type": "code",
   "execution_count": null,
   "metadata": {
    "tags": []
   },
   "outputs": [],
   "source": [
    "m.metabolites.M_Ubiquinones.summary()\n"
   ]
  },
  {
   "cell_type": "code",
   "execution_count": null,
   "metadata": {
    "tags": []
   },
   "outputs": [],
   "source": [
    "m.metabolites.M_ATP.summary()"
   ]
  },
  {
   "cell_type": "code",
   "execution_count": null,
   "metadata": {
    "tags": []
   },
   "outputs": [],
   "source": [
    "m.metabolites.M_OXALACETIC_ACID.summary()"
   ]
  },
  {
   "cell_type": "code",
   "execution_count": null,
   "metadata": {
    "tags": []
   },
   "outputs": [],
   "source": [
    "m.metabolites.M_CARBON_DIOXIDE.summary()"
   ]
  },
  {
   "cell_type": "code",
   "execution_count": null,
   "metadata": {
    "tags": []
   },
   "outputs": [],
   "source": [
    " m.metabolites.M_HCO3.summary()"
   ]
  },
  {
   "cell_type": "code",
   "execution_count": null,
   "metadata": {
    "tags": []
   },
   "outputs": [],
   "source": [
    "m.metabolites.M_ACETYL_COA.summary()"
   ]
  },
  {
   "cell_type": "code",
   "execution_count": null,
   "metadata": {
    "tags": []
   },
   "outputs": [],
   "source": [
    "m.metabolites.M_2_KETOGLUTARATE.summary()"
   ]
  },
  {
   "cell_type": "code",
   "execution_count": null,
   "metadata": {
    "tags": []
   },
   "outputs": [],
   "source": [
    "m.metabolites.M_PYRUVATE.summary() "
   ]
  },
  {
   "cell_type": "code",
   "execution_count": null,
   "metadata": {
    "tags": []
   },
   "outputs": [],
   "source": [
    "m.metabolites.M_PHOSPHO_ENOL_PYRUVATE.summary() "
   ]
  },
  {
   "cell_type": "code",
   "execution_count": null,
   "metadata": {
    "tags": []
   },
   "outputs": [],
   "source": [
    "m.metabolites.M_2_PG.summary() "
   ]
  },
  {
   "cell_type": "code",
   "execution_count": null,
   "metadata": {
    "tags": []
   },
   "outputs": [],
   "source": [
    "m.metabolites.M_G3P.summary() "
   ]
  },
  {
   "cell_type": "code",
   "execution_count": null,
   "metadata": {
    "tags": []
   },
   "outputs": [],
   "source": [
    "m.metabolites.M_DPG.summary() "
   ]
  },
  {
   "cell_type": "code",
   "execution_count": null,
   "metadata": {
    "tags": []
   },
   "outputs": [],
   "source": [
    "m.metabolites.M_GAP.summary() "
   ]
  },
  {
   "cell_type": "code",
   "execution_count": null,
   "metadata": {
    "tags": []
   },
   "outputs": [],
   "source": [
    "m.metabolites.M_NADH.summary() "
   ]
  },
  {
   "cell_type": "code",
   "execution_count": null,
   "metadata": {
    "tags": []
   },
   "outputs": [],
   "source": [
    "m.metabolites.M_ATP.summary() "
   ]
  },
  {
   "cell_type": "code",
   "execution_count": null,
   "metadata": {
    "tags": []
   },
   "outputs": [],
   "source": [
    "m.metabolites.M_OXYGEN_MOLECULE.summary() "
   ]
  },
  {
   "cell_type": "code",
   "execution_count": null,
   "metadata": {},
   "outputs": [],
   "source": [
    "m.metabolites.M_NADPH.summary()"
   ]
  },
  {
   "cell_type": "code",
   "execution_count": null,
   "metadata": {},
   "outputs": [],
   "source": [
    "生成accoa和biomass时的nadh"
   ]
  },
  {
   "cell_type": "code",
   "execution_count": null,
   "metadata": {},
   "outputs": [],
   "source": [
    "把NADH都用于cbb时，对biomass的影响"
   ]
  },
  {
   "cell_type": "code",
   "execution_count": null,
   "metadata": {},
   "outputs": [],
   "source": [
    "accoa的flux最大时"
   ]
  },
  {
   "cell_type": "code",
   "execution_count": null,
   "metadata": {},
   "outputs": [],
   "source": []
  }
 ],
 "metadata": {
  "kernelspec": {
   "display_name": "Python 3",
   "language": "python",
   "name": "python3"
  },
  "language_info": {
   "codemirror_mode": {
    "name": "ipython",
    "version": 3
   },
   "file_extension": ".py",
   "mimetype": "text/x-python",
   "name": "python",
   "nbconvert_exporter": "python",
   "pygments_lexer": "ipython3",
   "version": "3.9.12"
  },
  "widgets": {
   "application/vnd.jupyter.widget-state+json": {
    "state": {},
    "version_major": 2,
    "version_minor": 0
   }
  }
 },
 "nbformat": 4,
 "nbformat_minor": 4
}
